{
  "nbformat": 4,
  "nbformat_minor": 0,
  "metadata": {
    "colab": {
      "provenance": [],
      "authorship_tag": "ABX9TyNJIU/nRUcd76Mh3ie41nDA",
      "include_colab_link": true
    },
    "kernelspec": {
      "name": "python3",
      "display_name": "Python 3"
    },
    "language_info": {
      "name": "python"
    }
  },
  "cells": [
    {
      "cell_type": "markdown",
      "metadata": {
        "id": "view-in-github",
        "colab_type": "text"
      },
      "source": [
        "<a href=\"https://colab.research.google.com/github/lmcanavals/aai/blob/main/01_search_space_representation.ipynb\" target=\"_parent\"><img src=\"https://colab.research.google.com/assets/colab-badge.svg\" alt=\"Open In Colab\"/></a>"
      ]
    },
    {
      "cell_type": "code",
      "execution_count": null,
      "metadata": {
        "colab": {
          "base_uri": "https://localhost:8080/"
        },
        "id": "rPhk1dtp7V8U",
        "outputId": "115a84d5-24cf-467b-e49a-9c112efbdd80"
      },
      "outputs": [
        {
          "output_type": "stream",
          "name": "stdout",
          "text": [
            "Writing demo\n"
          ]
        }
      ],
      "source": [
        "%%file demo\n",
        "4 5\n",
        "0 10 1 20 2 20 3 40 4 10\n",
        "1 20 0 10 3 30 2 50 4 30\n",
        "2 30 1 20 4 12 3 40 0 10\n",
        "4 50 3 30 2 15 0 20 1 15"
      ]
    },
    {
      "cell_type": "code",
      "source": [
        "import numpy as np\n",
        "import random\n",
        "import matplotlib.pyplot as plt"
      ],
      "metadata": {
        "id": "KOjBZCao83C6"
      },
      "execution_count": 21,
      "outputs": []
    },
    {
      "cell_type": "code",
      "source": [
        "with open('demo') as f:\n",
        "    n, m = [int(x) for x in f.readline().split()]\n",
        "    jobs = np.zeros((n, m, 2), dtype=int)\n",
        "    i = 0\n",
        "    for line in f:\n",
        "        jobs[i] = np.array([int(x) for x in line.split()]).reshape(m, 2)\n",
        "        i += 1\n",
        "\n",
        "print(n, m)\n",
        "print(jobs)"
      ],
      "metadata": {
        "colab": {
          "base_uri": "https://localhost:8080/"
        },
        "id": "hZRMrwLr7k51",
        "outputId": "7aea5c24-f343-4426-b7a9-b9aa69fe7664"
      },
      "execution_count": 12,
      "outputs": [
        {
          "output_type": "stream",
          "name": "stdout",
          "text": [
            "4 5\n",
            "[[[ 0 10]\n",
            "  [ 1 20]\n",
            "  [ 2 20]\n",
            "  [ 3 40]\n",
            "  [ 4 10]]\n",
            "\n",
            " [[ 1 20]\n",
            "  [ 0 10]\n",
            "  [ 3 30]\n",
            "  [ 2 50]\n",
            "  [ 4 30]]\n",
            "\n",
            " [[ 2 30]\n",
            "  [ 1 20]\n",
            "  [ 4 12]\n",
            "  [ 3 40]\n",
            "  [ 0 10]]\n",
            "\n",
            " [[ 4 50]\n",
            "  [ 3 30]\n",
            "  [ 2 15]\n",
            "  [ 0 20]\n",
            "  [ 1 15]]]\n"
          ]
        }
      ]
    },
    {
      "cell_type": "code",
      "source": [
        "#rep = [i for i in range(n)]*m\n",
        "#random.shuffle(rep)\n",
        "rep = [1, 2, 0, 1, 2, 3, 1, 2, 0, 3, 0, 0, 1, 0, 3, 3, 2, 2, 3, 1]\n",
        "print(rep)"
      ],
      "metadata": {
        "colab": {
          "base_uri": "https://localhost:8080/"
        },
        "id": "2n_IBSsI8gpW",
        "outputId": "5c14fc4f-31c6-4853-8d7d-ead8db1d8ca5"
      },
      "execution_count": 29,
      "outputs": [
        {
          "output_type": "stream",
          "name": "stdout",
          "text": [
            "[1, 2, 0, 1, 2, 3, 1, 2, 0, 3, 0, 0, 1, 0, 3, 3, 2, 2, 3, 1]\n"
          ]
        }
      ]
    },
    {
      "cell_type": "code",
      "source": [
        "mstart = np.zeros((m), dtype=int)\n",
        "jend = np.zeros((m), dtype=int)\n",
        "idxs = np.zeros((n), dtype=int)\n",
        "makespan = 0\n",
        "for e in rep:\n",
        "    i = idxs[e]\n",
        "    idxs[e] += 1\n",
        "    midx = jobs[e, i, 0]\n",
        "    time = jobs[e, i, 1]\n",
        "    #print(f\"Job {e} task {i} to machine {midx} starting at {mstart[midx]} duration {time}\")\n",
        "    mstart[midx] = max(mstart[midx], jend[e]) + time\n",
        "    jend[e] = mstart[midx]\n",
        "    if mstart[midx] > makespan:\n",
        "        makespan = mstart[midx]\n",
        "\n",
        "print(makespan)"
      ],
      "metadata": {
        "colab": {
          "base_uri": "https://localhost:8080/"
        },
        "id": "iXL-0aYD87Yy",
        "outputId": "d934666f-30ca-4237-fd0c-3369153a5080"
      },
      "execution_count": 39,
      "outputs": [
        {
          "output_type": "stream",
          "name": "stdout",
          "text": [
            "190\n"
          ]
        }
      ]
    },
    {
      "cell_type": "code",
      "source": [
        "mstart = np.zeros((m), dtype=int)\n",
        "jend = np.zeros((m), dtype=int)\n",
        "idxs = np.zeros((n), dtype=int)\n",
        "schedule = np.zeros((m*10, makespan))\n",
        "\n",
        "for e in rep:\n",
        "    i = idxs[e]\n",
        "    idxs[e] += 1\n",
        "    midx = jobs[e, i, 0]\n",
        "    time = jobs[e, i, 1]\n",
        "    mstart[midx] = max(mstart[midx], jend[e])\n",
        "    schedule[midx*10:(midx+1)*10, mstart[midx]:mstart[midx] + time] = e+1\n",
        "    mstart[midx] += time\n",
        "    jend[e] = mstart[midx]\n",
        "\n",
        "plt.imshow(schedule)"
      ],
      "metadata": {
        "id": "0tUSJo05-6Uc",
        "colab": {
          "base_uri": "https://localhost:8080/",
          "height": 156
        },
        "outputId": "98809dde-ac14-4367-8926-f78c8bcefa4f"
      },
      "execution_count": 40,
      "outputs": [
        {
          "output_type": "execute_result",
          "data": {
            "text/plain": [
              "<matplotlib.image.AxesImage at 0x7f23b255c310>"
            ]
          },
          "metadata": {},
          "execution_count": 40
        },
        {
          "output_type": "display_data",
          "data": {
            "text/plain": [
              "<Figure size 432x288 with 1 Axes>"
            ],
            "image/png": "[encoded data removed]"
          },
          "metadata": {
            "needs_background": "light"
          }
        }
      ]
    }
  ]
}
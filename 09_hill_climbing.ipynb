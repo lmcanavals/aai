{
  "nbformat": 4,
  "nbformat_minor": 0,
  "metadata": {
    "colab": {
      "provenance": [],
      "authorship_tag": "ABX9TyMn3xazV8cELnTOsjoFbz4e",
      "include_colab_link": true
    },
    "kernelspec": {
      "name": "python3",
      "display_name": "Python 3"
    },
    "language_info": {
      "name": "python"
    }
  },
  "cells": [
    {
      "cell_type": "markdown",
      "metadata": {
        "id": "view-in-github",
        "colab_type": "text"
      },
      "source": [
        "<a href=\"https://colab.research.google.com/github/lmcanavals/aai/blob/main/09_hill_climbing.ipynb\" target=\"_parent\"><img src=\"https://colab.research.google.com/assets/colab-badge.svg\" alt=\"Open In Colab\"/></a>"
      ]
    },
    {
      "cell_type": "code",
      "execution_count": 1,
      "metadata": {
        "colab": {
          "base_uri": "https://localhost:8080/"
        },
        "id": "rPhk1dtp7V8U",
        "outputId": "16022976-a37e-46db-b434-6e66f14bb80c"
      },
      "outputs": [
        {
          "output_type": "stream",
          "name": "stdout",
          "text": [
            "Writing demo\n"
          ]
        }
      ],
      "source": [
        "%%file demo\n",
        "4 5\n",
        "0 10 1 20 2 20 3 40 4 10\n",
        "1 20 0 10 3 30 2 50 4 30\n",
        "2 30 1 20 4 12 3 40 0 10\n",
        "4 50 3 30 2 15 0 20 1 15"
      ]
    },
    {
      "cell_type": "code",
      "source": [
        "import numpy as np\n",
        "import random\n",
        "import matplotlib.pyplot as plt"
      ],
      "metadata": {
        "id": "KOjBZCao83C6"
      },
      "execution_count": 2,
      "outputs": []
    },
    {
      "cell_type": "code",
      "source": [
        "def randRep(n, m):\n",
        "    rep = [i for i in range(n)]*m\n",
        "    random.shuffle(rep)\n",
        "    #rep = [1, 2, 0, 1, 2, 3, 1, 2, 0, 3, 0, 0, 1, 0, 3, 3, 2, 2, 3, 1]\n",
        "    #rep = [1, 0, 0, 1, 2, 1, 0, 2, 1, 3, 3, 3, 2, 1, 0, 2, 3, 3, 0, 2]\n",
        "    return np.array(rep)"
      ],
      "metadata": {
        "id": "2n_IBSsI8gpW"
      },
      "execution_count": 25,
      "outputs": []
    },
    {
      "cell_type": "code",
      "source": [
        "def calcMakespan(rep, n, m, jobs):\n",
        "    mstart = np.zeros((m), dtype=int)\n",
        "    jend = np.zeros((m), dtype=int)\n",
        "    idxs = np.zeros((n), dtype=int)\n",
        "    makespan = 0\n",
        "    for e in rep:\n",
        "        i = idxs[e]\n",
        "        idxs[e] += 1\n",
        "        midx = jobs[e, i, 0]\n",
        "        time = jobs[e, i, 1]\n",
        "        #print(f\"Job {e} task {i} to machine {midx} starting at {mstart[midx]} duration {time}\")\n",
        "        mstart[midx] = max(mstart[midx], jend[e]) + time\n",
        "        jend[e] = mstart[midx]\n",
        "        if mstart[midx] > makespan:\n",
        "            makespan = mstart[midx]\n",
        "\n",
        "    return makespan"
      ],
      "metadata": {
        "id": "iXL-0aYD87Yy"
      },
      "execution_count": 26,
      "outputs": []
    },
    {
      "cell_type": "code",
      "source": [
        "def mkSolution(rep, n, m, jobs, makespan):\n",
        "    mstart = np.zeros((m), dtype=int)\n",
        "    jend = np.zeros((m), dtype=int)\n",
        "    idxs = np.zeros((n), dtype=int)\n",
        "    schedule = np.zeros((m*10, makespan))\n",
        "\n",
        "    for e in rep:\n",
        "        i = idxs[e]\n",
        "        idxs[e] += 1\n",
        "        midx = jobs[e, i, 0]\n",
        "        time = jobs[e, i, 1]\n",
        "        mstart[midx] = max(mstart[midx], jend[e])\n",
        "        schedule[midx*10:(midx+1)*10, mstart[midx]:mstart[midx] + time] = e+1\n",
        "        mstart[midx] += time\n",
        "        jend[e] = mstart[midx]\n",
        "\n",
        "    plt.subplots(figsize=(20, 10))\n",
        "    plt.imshow(schedule)"
      ],
      "metadata": {
        "id": "0tUSJo05-6Uc"
      },
      "execution_count": 36,
      "outputs": []
    },
    {
      "cell_type": "code",
      "source": [
        "import time\n",
        "\n",
        "def swap1(rep):\n",
        "    n = len(rep)\n",
        "    i = random.randint(0, n-1)\n",
        "    j = random.randint(0, n-1)\n",
        "    rep[i], rep[j] = rep[j], rep[i]\n",
        "\n",
        "def hillClimbing(n, m, jobs, delay):\n",
        "    bestSolution = randRep(n, m)\n",
        "    bestMakespan = calcMakespan(bestSolution, n, m, jobs)\n",
        "    copy = np.zeros((n*m), dtype=int)\n",
        "    timesup = False\n",
        "    start = time.time()\n",
        "    iter = 0\n",
        "    #print(bestSolution, bestMakespan)\n",
        "    progress = []\n",
        "    while not timesup:\n",
        "        iter += 1\n",
        "        copy = bestSolution.copy()\n",
        "        swap1(bestSolution)\n",
        "        newMakespan = calcMakespan(bestSolution, n, m, jobs)\n",
        "        if newMakespan < bestMakespan:\n",
        "            bestMakespan = newMakespan\n",
        "        else:\n",
        "            bestSolution = copy.copy()\n",
        "        if time.time() - start >= delay:\n",
        "            timesup = True\n",
        "        progress.append(bestMakespan)\n",
        "    return bestSolution, bestMakespan, progress\n",
        "    #print(bestSolution, bestMakespan, iter)"
      ],
      "metadata": {
        "id": "iVYjXlmSAngo"
      },
      "execution_count": 41,
      "outputs": []
    },
    {
      "cell_type": "code",
      "source": [
        "with open('demo') as f:\n",
        "    n, m = [int(x) for x in f.readline().split()]\n",
        "    jobs = np.zeros((n, m, 2), dtype=int)\n",
        "    i = 0\n",
        "    for line in f:\n",
        "        jobs[i] = np.array([int(x) for x in line.split()]).reshape(m, 2)\n",
        "        i += 1\n",
        "\n",
        "    random.seed(1981)\n",
        "    rep, makespan, data = hillClimbing(n, m, jobs, 60)\n",
        "    mkSolution(rep, n, m, jobs, makespan)"
      ],
      "metadata": {
        "colab": {
          "base_uri": "https://localhost:8080/",
          "height": 359
        },
        "id": "MErIYrSC-9O2",
        "outputId": "223f0880-a6cc-4e3a-dce9-0875bfd33c32"
      },
      "execution_count": 49,
      "outputs": [
        {
          "output_type": "display_data",
          "data": {
            "text/plain": [
              "<Figure size 1440x720 with 1 Axes>"
            ],
            "image/png": "[encoded data removed]"
          },
          "metadata": {
            "needs_background": "light"
          }
        }
      ]
    },
    {
      "cell_type": "code",
      "source": [
        "fig = plt.figure()\n",
        "ax = fig.add_subplot(111)\n",
        "ax.plot(data)\n",
        "ax.set_xscale('log')\n",
        "plt.show()"
      ],
      "metadata": {
        "id": "WKfBRGRgp6Wb",
        "colab": {
          "base_uri": "https://localhost:8080/",
          "height": 269
        },
        "outputId": "dc68af7a-1c1a-40c4-c0b6-bb99109f312c"
      },
      "execution_count": 50,
      "outputs": [
        {
          "output_type": "display_data",
          "data": {
            "text/plain": [
              "<Figure size 432x288 with 1 Axes>"
            ],
            "image/png": "[encoded data removed]"
          },
          "metadata": {
            "needs_background": "light"
          }
        }
      ]
    },
    {
      "cell_type": "code",
      "source": [],
      "metadata": {
        "id": "mjUUiOWyGPzx"
      },
      "execution_count": null,
      "outputs": []
    }
  ]
}
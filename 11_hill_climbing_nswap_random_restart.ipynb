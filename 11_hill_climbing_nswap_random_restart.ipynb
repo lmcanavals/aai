{
  "nbformat": 4,
  "nbformat_minor": 0,
  "metadata": {
    "colab": {
      "provenance": [],
      "authorship_tag": "ABX9TyOuF7QGxqnh88IWVgwRAI6m",
      "include_colab_link": true
    },
    "kernelspec": {
      "name": "python3",
      "display_name": "Python 3"
    },
    "language_info": {
      "name": "python"
    }
  },
  "cells": [
    {
      "cell_type": "markdown",
      "metadata": {
        "id": "view-in-github",
        "colab_type": "text"
      },
      "source": [
        "<a href=\"https://colab.research.google.com/github/lmcanavals/aai/blob/main/11_hill_climbing_nswap_random_restart.ipynb\" target=\"_parent\"><img src=\"https://colab.research.google.com/assets/colab-badge.svg\" alt=\"Open In Colab\"/></a>"
      ]
    },
    {
      "cell_type": "code",
      "execution_count": null,
      "metadata": {
        "colab": {
          "base_uri": "https://localhost:8080/"
        },
        "id": "rPhk1dtp7V8U",
        "outputId": "9eb28c3c-22cc-44ea-d180-5004231af35b"
      },
      "outputs": [
        {
          "output_type": "stream",
          "name": "stdout",
          "text": [
            "Writing abz7\n"
          ]
        }
      ],
      "source": [
        "%%file abz7\n",
        "20 15\n",
        " 2 24  3 12  9 17  4 27  0 21  6 25  8 27  7 26  1 30  5 31 11 18 14 16 13 39 10 19 12 26\n",
        " 6 30  3 15 12 20 11 19  1 24 13 15 10 28  2 36  5 26  7 15  0 11  8 23 14 20  9 26  4 28\n",
        " 6 35  0 22 13 23  7 32  2 20  3 12 12 19 10 23  9 17  1 14  5 16 11 29  8 16  4 22 14 22\n",
        " 9 20  6 29  1 19  7 14 12 33  4 30  0 32  5 21 11 29 10 24 14 25  2 29  3 13  8 20 13 18\n",
        "11 23 13 20  1 28  6 32  7 16  5 18  8 24  9 23  3 24 10 34  2 24  0 24 14 28 12 15  4 18\n",
        " 8 24 11 19 14 21  1 33  7 34  6 35  5 40 10 36  3 23  2 26  4 15  9 28 13 38 12 13  0 25\n",
        "13 27  3 30  6 21  8 19 12 12  4 27  2 39  9 13 14 12  5 36 10 21 11 17  1 29  0 17  7 33\n",
        " 5 27  4 19  6 29  9 20  3 21 10 40  8 14 14 39 13 39  2 27  1 36 12 12 11 37  7 22  0 13\n",
        "13 32 11 29  8 24  3 27  5 40  4 21  9 26  0 27 14 27  6 16  2 21 10 13  7 28 12 28  1 32\n",
        "12 35  1 11  5 39 14 18  7 23  0 34  3 24 13 11  8 30 11 31  4 15 10 15  2 28  9 26  6 33\n",
        "10 28  5 37 12 29  1 31  7 25  8 13 14 14  4 20  3 27  9 25 13 31 11 14  6 25  2 39  0 36\n",
        " 0 22 11 25  5 28 13 35  4 31  8 21  9 20 14 19  2 29  7 32 10 18  1 18  3 11 12 17  6 15\n",
        "12 39  5 32  2 36  8 14  3 28 13 37  0 38  6 20  7 19 11 12 14 22  1 36  4 15  9 32 10 16\n",
        " 8 28  1 29 14 40 12 23  4 34  5 33  6 27 10 17  0 20  7 28 11 21  2 21 13 20  9 33  3 27\n",
        " 9 21 14 34  3 30 12 38  0 11 11 16  2 14  5 14  1 34  8 33  4 23 13 40 10 12  6 23  7 27\n",
        " 9 13 14 40  7 36  4 17  0 13  5 33  8 25 13 24 10 23  3 36  2 29  1 18 11 13  6 33 12 13\n",
        " 3 25  5 15  2 28 12 40  7 39  1 31  8 35  6 31 11 36  4 12 10 33 14 19  9 16 13 27  0 21\n",
        "12 22 10 14  0 12  2 20  5 12  1 18 11 17  8 39 14 31  3 31  7 32  9 20 13 29  4 13  6 26\n",
        " 5 18 10 30  7 38 14 22 13 15 11 20  9 16  3 17  1 12  2 13 12 40  6 17  8 30  4 38  0 13\n",
        " 9 31  8 39 12 27  1 14  5 33  3 31 11 22 13 36  0 16  7 11 14 14  4 29  6 28  2 22 10 17"
      ]
    },
    {
      "cell_type": "code",
      "source": [
        "import numpy as np\n",
        "import random\n",
        "import matplotlib.pyplot as plt"
      ],
      "metadata": {
        "id": "KOjBZCao83C6"
      },
      "execution_count": null,
      "outputs": []
    },
    {
      "cell_type": "code",
      "source": [
        "def randRep(n, m):\n",
        "    rep = [i for i in range(n)]*m\n",
        "    pos = []\n",
        "    random.shuffle(rep)\n",
        "    rep = np.array(rep)\n",
        "    for i in range(n):\n",
        "        pos.append((rep == i).nonzero()[0].tolist())\n",
        "    return rep, np.array(pos)"
      ],
      "metadata": {
        "id": "2n_IBSsI8gpW"
      },
      "execution_count": null,
      "outputs": []
    },
    {
      "cell_type": "code",
      "source": [
        "rep, pos = randRep(4, 5)\n",
        "print(rep)\n",
        "print(pos)"
      ],
      "metadata": {
        "colab": {
          "base_uri": "https://localhost:8080/"
        },
        "id": "bxjd2wxJKWm8",
        "outputId": "4054e636-bf7f-4aee-c518-b08764537228"
      },
      "execution_count": null,
      "outputs": [
        {
          "output_type": "stream",
          "name": "stdout",
          "text": [
            "[3 0 2 3 1 1 0 2 0 1 3 0 2 2 2 3 1 1 3 0]\n",
            "[[ 1  6  8 11 19]\n",
            " [ 4  5  9 16 17]\n",
            " [ 2  7 12 13 14]\n",
            " [ 0  3 10 15 18]]\n"
          ]
        }
      ]
    },
    {
      "cell_type": "code",
      "source": [
        "def calcMakespan(rep, n, m, jobs):\n",
        "    mstart = np.zeros((m), dtype=int)\n",
        "    jend = np.zeros((n), dtype=int)\n",
        "    idxs = np.zeros((n), dtype=int)\n",
        "    makespan = 0\n",
        "    for e in rep:\n",
        "        i = idxs[e]\n",
        "        idxs[e] += 1\n",
        "        midx = jobs[e, i, 0]\n",
        "        time = jobs[e, i, 1]\n",
        "        #print(f\"Job {e} task {i} to machine {midx} starting at {mstart[midx]} duration {time}\")\n",
        "        mstart[midx] = max(mstart[midx], jend[e]) + time\n",
        "        jend[e] = mstart[midx]\n",
        "        if mstart[midx] > makespan:\n",
        "            makespan = mstart[midx]\n",
        "\n",
        "    return makespan"
      ],
      "metadata": {
        "id": "iXL-0aYD87Yy"
      },
      "execution_count": null,
      "outputs": []
    },
    {
      "cell_type": "code",
      "source": [
        "def mkSolution(rep, n, m, jobs, makespan):\n",
        "    mstart = np.zeros((m), dtype=int)\n",
        "    jend = np.zeros((n), dtype=int)\n",
        "    idxs = np.zeros((n), dtype=int)\n",
        "    schedule = np.zeros((m*10, makespan))\n",
        "\n",
        "    for e in rep:\n",
        "        i = idxs[e]\n",
        "        idxs[e] += 1\n",
        "        midx = jobs[e, i, 0]\n",
        "        time = jobs[e, i, 1]\n",
        "        mstart[midx] = max(mstart[midx], jend[e])\n",
        "        schedule[midx*10:(midx+1)*10, mstart[midx]:mstart[midx] + time] = e+1\n",
        "        mstart[midx] += time\n",
        "        jend[e] = mstart[midx]\n",
        "\n",
        "    plt.subplots(figsize=(20, 10))\n",
        "    plt.imshow(schedule)"
      ],
      "metadata": {
        "id": "0tUSJo05-6Uc"
      },
      "execution_count": null,
      "outputs": []
    },
    {
      "cell_type": "code",
      "source": [
        "def nswap(rep, pos, n, m, debug=False):\n",
        "    numswaps = 2\n",
        "    while numswaps < n - 1:\n",
        "        if random.randint(1, 2) == 1:\n",
        "            break\n",
        "        else:\n",
        "            numswaps += 1\n",
        "    if debug: print(numswaps)\n",
        "    jobs = random.sample(range(n), numswaps)\n",
        "    if debug: print(jobs)\n",
        "    for k in range(numswaps - 1):\n",
        "        i0 = random.randint(0, m-1)\n",
        "        j0 = random.randint(0, m-1)\n",
        "        i = pos[jobs[k], i0]\n",
        "        j = pos[jobs[k+1], j0]\n",
        "        if debug: print(i0, j0, i, j)\n",
        "        rep[i], rep[j] = rep[j], rep[i]\n",
        "        pos[jobs[k], i0], pos[jobs[k+1], j0] = pos[jobs[k+1], j0], pos[jobs[k], i0]"
      ],
      "metadata": {
        "id": "0FZdBoK7Kv9g"
      },
      "execution_count": null,
      "outputs": []
    },
    {
      "cell_type": "code",
      "source": [
        "import time\n",
        "\n",
        "\n",
        "def hillClimbing(n, m, jobs, delay):\n",
        "    bestSolution, pos = randRep(n, m)\n",
        "    bestMakespan = calcMakespan(bestSolution, n, m, jobs)\n",
        "\n",
        "    alltimeBestSolution = np.zeros_like(bestSolution, dtype=int)\n",
        "    alltimeBestMakespan = bestMakespan\n",
        "\n",
        "    copy = np.zeros((n*m), dtype=int)\n",
        "    poscopy = np.zeros_like(pos, dtype=int)\n",
        "    timesup = False\n",
        "    start = time.time()\n",
        "    iter = 0\n",
        "    print(bestSolution, bestMakespan)\n",
        "    progress = []\n",
        "    L = 0\n",
        "    numRandRestarts = 0\n",
        "    while not timesup:\n",
        "        iter += 1\n",
        "        copy = bestSolution.copy()\n",
        "        poscopy = pos.copy()\n",
        "        L += 1\n",
        "        if L >= 2**16:\n",
        "            L = 0\n",
        "            numRandRestarts += 1\n",
        "            bestSolution, pos = randRep(n, m)\n",
        "            bestMakespan = calcMakespan(bestSolution, n, m, jobs)\n",
        "        else:\n",
        "            nswap(bestSolution, pos, n, m)\n",
        "        #    swap1(bestSolution)\n",
        "        newMakespan = calcMakespan(bestSolution, n, m, jobs)\n",
        "        if newMakespan < bestMakespan:\n",
        "            bestMakespan = newMakespan\n",
        "            if bestMakespan < alltimeBestMakespan:\n",
        "                alltimeBestMakespan = bestMakespan\n",
        "                alltimeBestSolution = bestSolution.copy()\n",
        "        else:\n",
        "            bestSolution = copy.copy()\n",
        "            pos = poscopy.copy()\n",
        "        if time.time() - start >= delay:\n",
        "            timesup = True\n",
        "        progress.append(alltimeBestMakespan)\n",
        "\n",
        "    print(numRandRestarts)\n",
        "    return alltimeBestSolution, alltimeBestMakespan, progress"
      ],
      "metadata": {
        "id": "iVYjXlmSAngo"
      },
      "execution_count": null,
      "outputs": []
    },
    {
      "cell_type": "code",
      "source": [
        "with open('abz7') as f:\n",
        "    n, m = [int(x) for x in f.readline().split()]\n",
        "    jobs = np.zeros((n, m, 2), dtype=int)\n",
        "    i = 0\n",
        "    for line in f:\n",
        "        jobs[i] = np.array([int(x) for x in line.split()]).reshape(m, 2)\n",
        "        i += 1\n",
        "\n",
        "    random.seed(1981)\n",
        "    rep, makespan, data = hillClimbing(n, m, jobs, 180)\n",
        "    mkSolution(rep, n, m, jobs, makespan)"
      ],
      "metadata": {
        "colab": {
          "base_uri": "https://localhost:8080/",
          "height": 525
        },
        "id": "MErIYrSC-9O2",
        "outputId": "06b32db2-b24d-4c51-c29a-eb808278d627"
      },
      "execution_count": null,
      "outputs": [
        {
          "output_type": "stream",
          "name": "stdout",
          "text": [
            "[11  7  0 12  9  8 13 13 15 16  1 10  1  1 14 12  1  4  6  7 10  1  8  2\n",
            " 14 15 14  3 15 18 17 16  7  7  5  4  6  5 14 10 10  3 14 12 16  0  9  5\n",
            " 12  2  2  3 12 13  2  8 15  6 16 16 11 14  7 19  1  2  5 14 10  1 13 18\n",
            "  2  6  1  4 16 19 10  9 17  1  8 17  8  5  2  9 15 12  3 18 17 16  3 19\n",
            "  1 18 15  0 15 17  4  3  0  6 19 11 14 17  1 14  0  4 19  7  9 14 12  0\n",
            "  5 16  7 13 19 13 13  1  7  3  1  5 17 12  2 11  5 15 17 16  8 11 13 17\n",
            " 10 15 18  0 10  8 10 15 16 16  5 17  7  9  5 14  0 14  6 11 14  9 10  8\n",
            " 13  4  4 13 15 11 18  6 18 11 16 11  1 15 11  6  9  3  6 16 14 14 16 12\n",
            " 13  2  9 18  5  5  0 10 12 17 19  3  9  8 11  7 19  9 18  2 19  0  2  4\n",
            "  0 11  3  6  4 13  8  4 10 18  0  2  2 12  6 18 10  8  8  9  3 19  7  5\n",
            "  6 13  7  7 17 19 13 19  8 15  6  7 19 11  3  0  4 11  2  8  4 12 18 18\n",
            "  3  3  2  5  3 15 18  8  4 17 15 12 12  6 17  4 16  4  0 19  7 19  9  9\n",
            " 18 10 17  5 13  6  1 12  9  0 11 10] 1412\n",
            "5\n"
          ]
        },
        {
          "output_type": "display_data",
          "data": {
            "text/plain": [
              "<Figure size 1440x720 with 1 Axes>"
            ],
            "image/png": "[encoded data removed]"
          },
          "metadata": {
            "needs_background": "light"
          }
        }
      ]
    },
    {
      "cell_type": "code",
      "source": [
        "fig = plt.figure()\n",
        "ax = fig.add_subplot(111)\n",
        "ax.plot(data)\n",
        "ax.set_xscale('log')\n",
        "plt.show()"
      ],
      "metadata": {
        "id": "WKfBRGRgp6Wb",
        "colab": {
          "base_uri": "https://localhost:8080/",
          "height": 269
        },
        "outputId": "5630db55-2ca1-476c-f5fb-9af9ea69dea2"
      },
      "execution_count": null,
      "outputs": [
        {
          "output_type": "display_data",
          "data": {
            "text/plain": [
              "<Figure size 432x288 with 1 Axes>"
            ],
            "image/png": "[encoded data removed]"
          },
          "metadata": {
            "needs_background": "light"
          }
        }
      ]
    },
    {
      "cell_type": "code",
      "source": [
        "makespan"
      ],
      "metadata": {
        "id": "mjUUiOWyGPzx",
        "colab": {
          "base_uri": "https://localhost:8080/"
        },
        "outputId": "e28dc9cb-90e6-4082-b3a1-9fbdfbabb002"
      },
      "execution_count": null,
      "outputs": [
        {
          "output_type": "execute_result",
          "data": {
            "text/plain": [
              "770"
            ]
          },
          "metadata": {},
          "execution_count": 19
        }
      ]
    },
    {
      "cell_type": "code",
      "source": [],
      "metadata": {
        "id": "V-fh8GsgNU9X"
      },
      "execution_count": null,
      "outputs": []
    }
  ]
}
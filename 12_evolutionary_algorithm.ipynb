{
  "nbformat": 4,
  "nbformat_minor": 0,
  "metadata": {
    "colab": {
      "provenance": [],
      "collapsed_sections": [],
      "authorship_tag": "ABX9TyPjOtM2LvZy2Yvi2wT5O7ck",
      "include_colab_link": true
    },
    "kernelspec": {
      "name": "python3",
      "display_name": "Python 3"
    },
    "language_info": {
      "name": "python"
    }
  },
  "cells": [
    {
      "cell_type": "markdown",
      "metadata": {
        "id": "view-in-github",
        "colab_type": "text"
      },
      "source": [
        "<a href=\"https://colab.research.google.com/github/lmcanavals/aai/blob/main/12_evolutionary_algorithm.ipynb\" target=\"_parent\"><img src=\"https://colab.research.google.com/assets/colab-badge.svg\" alt=\"Open In Colab\"/></a>"
      ]
    },
    {
      "cell_type": "code",
      "execution_count": 1,
      "metadata": {
        "colab": {
          "base_uri": "https://localhost:8080/"
        },
        "id": "rPhk1dtp7V8U",
        "outputId": "ef6efa9e-53ae-415c-f804-cf643fedd948"
      },
      "outputs": [
        {
          "output_type": "stream",
          "name": "stdout",
          "text": [
            "Writing abz7\n"
          ]
        }
      ],
      "source": [
        "%%file abz7\n",
        "20 15\n",
        " 2 24  3 12  9 17  4 27  0 21  6 25  8 27  7 26  1 30  5 31 11 18 14 16 13 39 10 19 12 26\n",
        " 6 30  3 15 12 20 11 19  1 24 13 15 10 28  2 36  5 26  7 15  0 11  8 23 14 20  9 26  4 28\n",
        " 6 35  0 22 13 23  7 32  2 20  3 12 12 19 10 23  9 17  1 14  5 16 11 29  8 16  4 22 14 22\n",
        " 9 20  6 29  1 19  7 14 12 33  4 30  0 32  5 21 11 29 10 24 14 25  2 29  3 13  8 20 13 18\n",
        "11 23 13 20  1 28  6 32  7 16  5 18  8 24  9 23  3 24 10 34  2 24  0 24 14 28 12 15  4 18\n",
        " 8 24 11 19 14 21  1 33  7 34  6 35  5 40 10 36  3 23  2 26  4 15  9 28 13 38 12 13  0 25\n",
        "13 27  3 30  6 21  8 19 12 12  4 27  2 39  9 13 14 12  5 36 10 21 11 17  1 29  0 17  7 33\n",
        " 5 27  4 19  6 29  9 20  3 21 10 40  8 14 14 39 13 39  2 27  1 36 12 12 11 37  7 22  0 13\n",
        "13 32 11 29  8 24  3 27  5 40  4 21  9 26  0 27 14 27  6 16  2 21 10 13  7 28 12 28  1 32\n",
        "12 35  1 11  5 39 14 18  7 23  0 34  3 24 13 11  8 30 11 31  4 15 10 15  2 28  9 26  6 33\n",
        "10 28  5 37 12 29  1 31  7 25  8 13 14 14  4 20  3 27  9 25 13 31 11 14  6 25  2 39  0 36\n",
        " 0 22 11 25  5 28 13 35  4 31  8 21  9 20 14 19  2 29  7 32 10 18  1 18  3 11 12 17  6 15\n",
        "12 39  5 32  2 36  8 14  3 28 13 37  0 38  6 20  7 19 11 12 14 22  1 36  4 15  9 32 10 16\n",
        " 8 28  1 29 14 40 12 23  4 34  5 33  6 27 10 17  0 20  7 28 11 21  2 21 13 20  9 33  3 27\n",
        " 9 21 14 34  3 30 12 38  0 11 11 16  2 14  5 14  1 34  8 33  4 23 13 40 10 12  6 23  7 27\n",
        " 9 13 14 40  7 36  4 17  0 13  5 33  8 25 13 24 10 23  3 36  2 29  1 18 11 13  6 33 12 13\n",
        " 3 25  5 15  2 28 12 40  7 39  1 31  8 35  6 31 11 36  4 12 10 33 14 19  9 16 13 27  0 21\n",
        "12 22 10 14  0 12  2 20  5 12  1 18 11 17  8 39 14 31  3 31  7 32  9 20 13 29  4 13  6 26\n",
        " 5 18 10 30  7 38 14 22 13 15 11 20  9 16  3 17  1 12  2 13 12 40  6 17  8 30  4 38  0 13\n",
        " 9 31  8 39 12 27  1 14  5 33  3 31 11 22 13 36  0 16  7 11 14 14  4 29  6 28  2 22 10 17"
      ]
    },
    {
      "cell_type": "code",
      "source": [
        "import numpy as np\n",
        "import random\n",
        "import matplotlib.pyplot as plt"
      ],
      "metadata": {
        "id": "KOjBZCao83C6"
      },
      "execution_count": 2,
      "outputs": []
    },
    {
      "cell_type": "code",
      "source": [
        "def randRep(n, m):\n",
        "    rep = [i for i in range(n)]*m\n",
        "    pos = []\n",
        "    random.shuffle(rep)\n",
        "    rep = np.array(rep)\n",
        "    for i in range(n):\n",
        "        pos.append((rep == i).nonzero()[0].tolist())\n",
        "    return rep, np.array(pos)"
      ],
      "metadata": {
        "id": "2n_IBSsI8gpW"
      },
      "execution_count": 3,
      "outputs": []
    },
    {
      "cell_type": "code",
      "source": [
        "def calcMakespan(rep, n, m, jobs):\n",
        "    mstart = np.zeros((m), dtype=int)\n",
        "    jend = np.zeros((n), dtype=int)\n",
        "    idxs = np.zeros((n), dtype=int)\n",
        "    makespan = 0\n",
        "    for e in rep:\n",
        "        i = idxs[e]\n",
        "        idxs[e] += 1\n",
        "        midx = jobs[e, i, 0]\n",
        "        time = jobs[e, i, 1]\n",
        "        #print(f\"Job {e} task {i} to machine {midx} starting at {mstart[midx]} duration {time}\")\n",
        "        mstart[midx] = max(mstart[midx], jend[e]) + time\n",
        "        jend[e] = mstart[midx]\n",
        "        if mstart[midx] > makespan:\n",
        "            makespan = mstart[midx]\n",
        "\n",
        "    return makespan"
      ],
      "metadata": {
        "id": "iXL-0aYD87Yy"
      },
      "execution_count": 4,
      "outputs": []
    },
    {
      "cell_type": "code",
      "source": [
        "def mkSolution(rep, n, m, jobs, makespan):\n",
        "    mstart = np.zeros((m), dtype=int)\n",
        "    jend = np.zeros((n), dtype=int)\n",
        "    idxs = np.zeros((n), dtype=int)\n",
        "    schedule = np.zeros((m*10, makespan))\n",
        "\n",
        "    for e in rep:\n",
        "        i = idxs[e]\n",
        "        idxs[e] += 1\n",
        "        midx = jobs[e, i, 0]\n",
        "        time = jobs[e, i, 1]\n",
        "        mstart[midx] = max(mstart[midx], jend[e])\n",
        "        schedule[midx*10:(midx+1)*10, mstart[midx]:mstart[midx] + time] = e+1\n",
        "        mstart[midx] += time\n",
        "        jend[e] = mstart[midx]\n",
        "\n",
        "    plt.subplots(figsize=(20, 10))\n",
        "    plt.imshow(schedule)"
      ],
      "metadata": {
        "id": "0tUSJo05-6Uc"
      },
      "execution_count": 5,
      "outputs": []
    },
    {
      "cell_type": "code",
      "source": [
        "def nswap(rep, pos, n, m, debug=False):\n",
        "    numswaps = 2\n",
        "    while numswaps < n - 1:\n",
        "        if random.randint(1, 2) == 1:\n",
        "            break\n",
        "        else:\n",
        "            numswaps += 1\n",
        "    if debug: print(numswaps)\n",
        "    jobs = random.sample(range(n), numswaps)\n",
        "    if debug: print(jobs)\n",
        "    for k in range(numswaps - 1):\n",
        "        i0 = random.randint(0, m-1)\n",
        "        j0 = random.randint(0, m-1)\n",
        "        i = pos[jobs[k], i0]\n",
        "        j = pos[jobs[k+1], j0]\n",
        "        if debug: print(i0, j0, i, j)\n",
        "        rep[i], rep[j] = rep[j], rep[i]\n",
        "        pos[jobs[k], i0], pos[jobs[k+1], j0] = pos[jobs[k+1], j0], pos[jobs[k], i0]"
      ],
      "metadata": {
        "id": "0FZdBoK7Kv9g"
      },
      "execution_count": 6,
      "outputs": []
    },
    {
      "cell_type": "code",
      "source": [
        "import time\n",
        "import math\n",
        "\n",
        "#import pdb\n",
        "\n",
        "def ea(n, m, jobs, μ, λ, delay):\n",
        "    solutions = np.zeros((μ + λ, m*n), dtype=int)\n",
        "    positions = np.zeros((μ + λ, n, m), dtype=int)\n",
        "    for i in range(μ + λ):\n",
        "        rep, pos = randRep(n, m)\n",
        "        solutions[i] = rep\n",
        "        positions[i] = pos\n",
        "    makespans = np.zeros((μ + λ), dtype=int)\n",
        "\n",
        "    bestMakespan = math.inf\n",
        "    bestIdx = -1\n",
        "\n",
        "    timesup = False\n",
        "    start = time.time()\n",
        "    iter = 0\n",
        "    progress = []\n",
        "    L = 0\n",
        "    numRandRestarts = 0\n",
        "    while not timesup:\n",
        "        iter += 1\n",
        "\n",
        "        for i in range(μ + λ):\n",
        "            makespans[i] = calcMakespan(solutions[i], n, m, jobs)\n",
        "            if makespans[i] < bestMakespan:\n",
        "                bestMakespan = makespans[i]\n",
        "                bestIdx = i\n",
        "        \n",
        "        μbest = np.argpartition(makespans, -μ)[-μ:]\n",
        "        λworst = [i for i in range(μ + λ)]\n",
        "        for i in μbest:\n",
        "            λworst.remove(i)\n",
        "\n",
        "        next = 0\n",
        "        for i in μbest:\n",
        "            idx = λworst[next]\n",
        "            # pdb.set_trace()\n",
        "            solutions[idx] = solutions[i].copy()\n",
        "            positions[idx] = positions[i].copy()\n",
        "            nswap(solutions[idx], positions[idx], n, m)\n",
        "            next += 1\n",
        "        # it is important to remember that μ and  λ are the same for this \n",
        "\n",
        "        progress.append(bestMakespan)\n",
        "        if time.time() - start >= delay:\n",
        "            timesup = True\n",
        "\n",
        "    print(numRandRestarts)\n",
        "    return solutions[bestIdx], bestMakespan, progress"
      ],
      "metadata": {
        "id": "iVYjXlmSAngo"
      },
      "execution_count": 26,
      "outputs": []
    },
    {
      "cell_type": "code",
      "source": [
        "with open('abz7') as f:\n",
        "    n, m = [int(x) for x in f.readline().split()]\n",
        "    jobs = np.zeros((n, m, 2), dtype=int)\n",
        "    i = 0\n",
        "    for line in f:\n",
        "        jobs[i] = np.array([int(x) for x in line.split()]).reshape(m, 2)\n",
        "        i += 1\n",
        "\n",
        "    random.seed(1981)\n",
        "    rep, makespan, data = ea(n, m, jobs, 2**13, 2**13, 180)\n",
        "    mkSolution(rep, n, m, jobs, makespan)"
      ],
      "metadata": {
        "colab": {
          "base_uri": "https://localhost:8080/",
          "height": 234
        },
        "id": "MErIYrSC-9O2",
        "outputId": "ca6835c4-bd9b-4cc3-87c7-e993d0a65ed0"
      },
      "execution_count": 27,
      "outputs": [
        {
          "output_type": "stream",
          "name": "stdout",
          "text": [
            "0\n"
          ]
        },
        {
          "output_type": "display_data",
          "data": {
            "text/plain": [
              "<Figure size 1440x720 with 1 Axes>"
            ],
            "image/png": "[encoded data removed]"
          },
          "metadata": {
            "needs_background": "light"
          }
        }
      ]
    },
    {
      "cell_type": "code",
      "source": [
        "fig = plt.figure()\n",
        "ax = fig.add_subplot(111)\n",
        "ax.plot(data)\n",
        "ax.set_xscale('log')\n",
        "plt.show()"
      ],
      "metadata": {
        "id": "WKfBRGRgp6Wb",
        "colab": {
          "base_uri": "https://localhost:8080/",
          "height": 269
        },
        "outputId": "c9546373-5f5b-48c3-a7c6-2016f87edbc9"
      },
      "execution_count": 28,
      "outputs": [
        {
          "output_type": "display_data",
          "data": {
            "text/plain": [
              "<Figure size 432x288 with 1 Axes>"
            ],
            "image/png": "[encoded data removed]"
          },
          "metadata": {
            "needs_background": "light"
          }
        }
      ]
    },
    {
      "cell_type": "code",
      "source": [
        "makespan"
      ],
      "metadata": {
        "id": "mjUUiOWyGPzx",
        "colab": {
          "base_uri": "https://localhost:8080/"
        },
        "outputId": "d3e81d77-ad84-4654-bc74-a5489c715b2f"
      },
      "execution_count": 29,
      "outputs": [
        {
          "output_type": "execute_result",
          "data": {
            "text/plain": [
              "1015"
            ]
          },
          "metadata": {},
          "execution_count": 29
        }
      ]
    },
    {
      "cell_type": "code",
      "source": [],
      "metadata": {
        "id": "V-fh8GsgNU9X"
      },
      "execution_count": null,
      "outputs": []
    }
  ]
}
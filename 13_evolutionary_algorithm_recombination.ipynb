{
  "nbformat": 4,
  "nbformat_minor": 0,
  "metadata": {
    "colab": {
      "provenance": [],
      "authorship_tag": "ABX9TyOcP/ZLpN0BGu4EGUZJBBX/",
      "include_colab_link": true
    },
    "kernelspec": {
      "name": "python3",
      "display_name": "Python 3"
    },
    "language_info": {
      "name": "python"
    }
  },
  "cells": [
    {
      "cell_type": "markdown",
      "metadata": {
        "id": "view-in-github",
        "colab_type": "text"
      },
      "source": [
        "<a href=\"https://colab.research.google.com/github/lmcanavals/aai/blob/main/13_evolutionary_algorithm_recombination.ipynb\" target=\"_parent\"><img src=\"https://colab.research.google.com/assets/colab-badge.svg\" alt=\"Open In Colab\"/></a>"
      ]
    },
    {
      "cell_type": "code",
      "source": [
        "import random"
      ],
      "metadata": {
        "id": "k9evKDkfSDoL"
      },
      "execution_count": 16,
      "outputs": []
    },
    {
      "cell_type": "code",
      "source": [
        "def recombination(x1, x2):\n",
        "    n = len(x1)\n",
        "    x = [0]*n\n",
        "    mark1 = [False]*n\n",
        "    mark2 = [False]*n\n",
        "    i1 = 0\n",
        "    i2 = 0\n",
        "    i = 0\n",
        "    for i in range(n):\n",
        "        if random.randint(1, 100) < 50:\n",
        "            while mark1[i1]:\n",
        "                i1 += 1\n",
        "            p = x1[i1]\n",
        "            i1 += 1\n",
        "            for q in range(i2, n):\n",
        "                if x2[q] == p and not mark2[q]:\n",
        "                    mark2[q] = True\n",
        "                    break\n",
        "        else:\n",
        "            while mark2[i2]:\n",
        "                i2 += 1\n",
        "            p = x2[i2]\n",
        "            i2 += 1\n",
        "            for q in range(i1, n):\n",
        "                if x1[q] == p and not mark1[q]:\n",
        "                    mark1[q] = True\n",
        "                    break\n",
        "        x[i] = p\n",
        "\n",
        "    return x"
      ],
      "metadata": {
        "id": "DPytotdNRerv"
      },
      "execution_count": 30,
      "outputs": []
    },
    {
      "cell_type": "code",
      "source": [
        "x1 = [ 2,0,3,1,1,1,0,0,0,3,0,2,1,1,3,2,2,3,2,3 ]\n",
        "x2 = ( 3,1,1,2,0,2,1,2,2,1,0,3,1,0,0,3,2,3,3,0 )"
      ],
      "metadata": {
        "id": "9fR0nn4mRL9w"
      },
      "execution_count": 15,
      "outputs": []
    },
    {
      "cell_type": "code",
      "source": [
        "x = recombination(x1, x2)\n",
        "print(x)"
      ],
      "metadata": {
        "colab": {
          "base_uri": "https://localhost:8080/"
        },
        "id": "bxzkfdzJTUan",
        "outputId": "4a2d471f-930c-4679-a8d3-0b60a69315fe"
      },
      "execution_count": 33,
      "outputs": [
        {
          "output_type": "stream",
          "name": "stdout",
          "text": [
            "[2, 0, 3, 1, 1, 2, 1, 2, 2, 0, 1, 0, 3, 1, 0, 3, 0, 2, 3, 3]\n"
          ]
        }
      ]
    },
    {
      "cell_type": "code",
      "source": [],
      "metadata": {
        "id": "3gxAoExbTaVg"
      },
      "execution_count": null,
      "outputs": []
    }
  ]
}
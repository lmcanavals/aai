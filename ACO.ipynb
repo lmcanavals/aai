{
  "nbformat": 4,
  "nbformat_minor": 0,
  "metadata": {
    "colab": {
      "provenance": [],
      "collapsed_sections": [],
      "authorship_tag": "ABX9TyNYF7vt/4o2cx15ARVslIrr",
      "include_colab_link": true
    },
    "kernelspec": {
      "name": "python3",
      "display_name": "Python 3"
    },
    "language_info": {
      "name": "python"
    }
  },
  "cells": [
    {
      "cell_type": "markdown",
      "metadata": {
        "id": "view-in-github",
        "colab_type": "text"
      },
      "source": [
        "<a href=\"https://colab.research.google.com/github/lmcanavals/aai/blob/main/ACO.ipynb\" target=\"_parent\"><img src=\"https://colab.research.google.com/assets/colab-badge.svg\" alt=\"Open In Colab\"/></a>"
      ]
    },
    {
      "cell_type": "code",
      "execution_count": 1,
      "metadata": {
        "id": "KiIxiPXD7-Gc"
      },
      "outputs": [],
      "source": [
        "import graphviz as gv\n",
        "import numpy as np\n",
        "import random\n",
        "import math"
      ]
    },
    {
      "cell_type": "code",
      "source": [
        "class Ant:\n",
        "    def __init__(self, numberOfCities):\n",
        "        self.trailSize = numberOfCities\n",
        "        self.trail = np.zeros((numberOfCities), dtype=int)\n",
        "        self.visited = np.zeros((numberOfCities), dtype=int)\n",
        "\n",
        "    def clear(self):\n",
        "        for i in range(len(self.visited)):\n",
        "            self.visited[i] = False\n",
        "\n",
        "    def visitCity(self, currentIndex, city):\n",
        "        self.trail[currentIndex + 1] = city\n",
        "        self.visited[city] = True\n",
        "\n",
        "    def trailLength(self, graph):\n",
        "        length = graph[self.trail[self.trailSize - 1], self.trail[0]]\n",
        "        for i in range(self.trailSize - 1):\n",
        "            length += graph[self.trail[i], self.trail[i + 1]]\n",
        "        return length"
      ],
      "metadata": {
        "id": "DluYY6yyAGOP"
      },
      "execution_count": 2,
      "outputs": []
    },
    {
      "cell_type": "code",
      "source": [
        "c = 1\n",
        "alpha = 1\n",
        "beta = 5\n",
        "evaporation = 0.5\n",
        "Q = 500\n",
        "antFactor = 0.8\n",
        "randomFactor = 0.01\n",
        "maxIterations = 10"
      ],
      "metadata": {
        "id": "hfFEltKs8J_I"
      },
      "execution_count": 3,
      "outputs": []
    },
    {
      "cell_type": "code",
      "source": [
        "currentIndex = 0\n",
        "numberOfCities = 15\n",
        "graph = np.random.rand(numberOfCities, numberOfCities)\n",
        "numberOfAnts = int(numberOfCities * antFactor)\n",
        "\n",
        "trails = np.zeros((numberOfCities, numberOfCities))\n",
        "probabilities = np.zeros((numberOfCities))\n",
        "ants = [Ant(numberOfCities) for i in range(numberOfAnts)]\n",
        "\n",
        "first = True\n",
        "bestTourOrder = None\n",
        "bestTourLength = math.inf"
      ],
      "metadata": {
        "id": "K0bvIkSX9B0u"
      },
      "execution_count": 4,
      "outputs": []
    },
    {
      "cell_type": "code",
      "source": [
        "def setupAnts():\n",
        "    for ant in ants:\n",
        "        ant.clear()\n",
        "        ant.visitCity(-1, random.randint(0, numberOfCities - 1))\n",
        "\n",
        "    global currentIndex\n",
        "    currentIndex = 0"
      ],
      "metadata": {
        "id": "TyDJA-DQ-Ktn"
      },
      "execution_count": 5,
      "outputs": []
    },
    {
      "cell_type": "markdown",
      "source": [
        "$$\n",
        "pheromone = \\sum_{l: l \\notin visited}{trail_{i,l}^\\alpha * w_{i, l}^\\beta}\n",
        "$$\n",
        "$$\n",
        "prob(j) =  \\frac{trail_{i, j}^\\alpha * w_{i, j}^\\beta}{pheromone}\n",
        "$$"
      ],
      "metadata": {
        "id": "sLLOm6BqS-uC"
      }
    },
    {
      "cell_type": "code",
      "source": [
        "def calculateProbabilities(ant):\n",
        "    global currentIndex\n",
        "    i = ant.trail[currentIndex]\n",
        "    pheromone = 0\n",
        "    for l in range(numberOfCities):\n",
        "        if not ant.visited[l]:\n",
        "            pheromone += trails[i, l]**alpha * (1/graph[i, l])**beta\n",
        "    for j in range(numberOfCities):\n",
        "        if ant.visited[j]:\n",
        "            probabilities[j] = 0\n",
        "        else:\n",
        "            numerator = trails[i, j]**alpha * (1/graph[i, j])**beta\n",
        "            probabilities[j] = numerator / pheromone"
      ],
      "metadata": {
        "id": "ZKFWCIqfR-zA"
      },
      "execution_count": 6,
      "outputs": []
    },
    {
      "cell_type": "code",
      "source": [
        "def selectNextCity(ant):\n",
        "    global currentIndex\n",
        "    t = random.randint(0, numberOfCities - currentIndex - 1)\n",
        "    if random.random() < randomFactor:\n",
        "        indexes = np.nonzero(ant.visited)\n",
        "        if t in indexes[0]:\n",
        "            return t\n",
        "    calculateProbabilities(ant)\n",
        "    r = random.random()\n",
        "    total = 0\n",
        "    for i in range(numberOfCities):\n",
        "        total += probabilities[i]\n",
        "        if total >= r:\n",
        "            return i\n",
        "\n",
        "    return -1"
      ],
      "metadata": {
        "id": "1F-cZELUCa1G"
      },
      "execution_count": 7,
      "outputs": []
    },
    {
      "cell_type": "code",
      "source": [
        "def moveAnts():\n",
        "    global currentIndex\n",
        "    for i in range(currentIndex, numberOfCities - 1):\n",
        "        for ant in ants:\n",
        "            ant.visitCity(currentIndex, selectNextCity(ant))\n",
        "        currentIndex += 1"
      ],
      "metadata": {
        "id": "Vorw9zl0CCo5"
      },
      "execution_count": 8,
      "outputs": []
    },
    {
      "cell_type": "code",
      "source": [
        "def updateTrails():\n",
        "    global currentIndex\n",
        "    for i in range(numberOfCities):\n",
        "        for j in range(numberOfCities):\n",
        "            trails[i, j] *= evaporation\n",
        "\n",
        "    for ant in ants:\n",
        "        contribution = Q / ant.trailLength(graph)\n",
        "        for i in range(numberOfCities - 1):\n",
        "            trails[ant.trail[i], ant.trail[i+1]] += contribution\n",
        "\n",
        "    trails[ant.trail[numberOfCities - 1], ant.trail[0]] += contribution"
      ],
      "metadata": {
        "id": "xFgQOhEaT6v_"
      },
      "execution_count": 9,
      "outputs": []
    },
    {
      "cell_type": "code",
      "source": [
        "def updateBest():\n",
        "    global first\n",
        "    global bestTourLength\n",
        "    global bestTourOrder\n",
        "    if (first):\n",
        "        first = False\n",
        "        bestTourOrder = ants[0].trail\n",
        "        bestTourLength = ants[0].trailLength(graph)\n",
        "    for ant in ants:\n",
        "        antTL = ant.trailLength(graph)\n",
        "        if antTL < bestTourLength:\n",
        "            bestTourLength = antTL\n",
        "            bestTourOrder = ant.trail[:]"
      ],
      "metadata": {
        "id": "QTOnT1A-UjyU"
      },
      "execution_count": 10,
      "outputs": []
    },
    {
      "cell_type": "code",
      "source": [
        "def clearTrails():\n",
        "    for i in range(numberOfCities):\n",
        "        for j in range(numberOfCities):\n",
        "            trails[i, j] = c"
      ],
      "metadata": {
        "id": "EIZi5uWSVIn5"
      },
      "execution_count": 11,
      "outputs": []
    },
    {
      "cell_type": "code",
      "source": [
        "def solve():\n",
        "    setupAnts()\n",
        "    clearTrails()\n",
        "    for i in range(maxIterations):\n",
        "        moveAnts()\n",
        "        updateTrails()\n",
        "        updateBest()\n",
        "    print(f\"Best tour length: {bestTourLength}\")\n",
        "    print(f\"Best tour order: {bestTourOrder}\")\n",
        "    return bestTourOrder[:]"
      ],
      "metadata": {
        "id": "XFp2QfPhCAZq"
      },
      "execution_count": 12,
      "outputs": []
    },
    {
      "cell_type": "code",
      "source": [
        "solve()"
      ],
      "metadata": {
        "colab": {
          "base_uri": "https://localhost:8080/"
        },
        "id": "x1S3TmgHRZrE",
        "outputId": "9a8814e1-fd68-4a43-c17c-3d5b390396f2"
      },
      "execution_count": 13,
      "outputs": [
        {
          "output_type": "stream",
          "name": "stdout",
          "text": [
            "Best tour length: 1.7841746046237503\n",
            "Best tour order: [12  3  2  5 14  7 13  4  0 10  6  8 11  1  9]\n"
          ]
        },
        {
          "output_type": "execute_result",
          "data": {
            "text/plain": [
              "array([12,  3,  2,  5, 14,  7, 13,  4,  0, 10,  6,  8, 11,  1,  9])"
            ]
          },
          "metadata": {},
          "execution_count": 13
        }
      ]
    }
  ]
}